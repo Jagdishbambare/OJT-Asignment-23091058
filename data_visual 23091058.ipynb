{
 "cells": [
  {
   "cell_type": "code",
   "execution_count": 1,
   "id": "7f710224",
   "metadata": {},
   "outputs": [],
   "source": [
    "import numpy as np\n",
    "import sympy as sp"
   ]
  },
  {
   "cell_type": "code",
   "execution_count": 2,
   "id": "4282bbb1",
   "metadata": {},
   "outputs": [
    {
     "name": "stdout",
     "output_type": "stream",
     "text": [
      "U= [[ 0.5747906  -0.66031112  0.452111    0.16943404  0.02219765]\n",
      " [ 0.52329168  0.606935    0.19961628 -0.01639113  0.56363144]\n",
      " [ 0.35162139  0.09032599 -0.57077803  0.70853911 -0.20096859]\n",
      " [ 0.43124298 -0.1936349  -0.58331495 -0.66049872 -0.00448737]\n",
      " [ 0.2935532   0.38725427  0.29950807 -0.18093427 -0.80088598]]\n",
      "S= [20.22843477  7.05000064  5.65476933  4.58197761  1.06629391]\n",
      "VT= [[ 0.17736419  0.28623951  0.65228443  0.43640868  0.52027048]\n",
      " [ 0.03221644  0.39376529  0.4176116  -0.81547521 -0.0671695 ]\n",
      " [ 0.39872359 -0.72092063  0.48194981 -0.06149794 -0.29195091]\n",
      " [ 0.06071494  0.44156474  0.17581335  0.37116655 -0.79539885]\n",
      " [ 0.89712722  0.21979506 -0.37005355 -0.0547818   0.08313973]]\n"
     ]
    }
   ],
   "source": [
    "#Q3\n",
    "np.random.seed(58)\n",
    "A = np.random.randint(0, 10, size=(5, 5))\n",
    "sp.Matrix(A)\n",
    "U,S,VT=np.linalg.svd(A)\n",
    "print('U=',U)\n",
    "print('S=',S)\n",
    "print(\"VT=\",VT)\n"
   ]
  },
  {
   "cell_type": "code",
   "execution_count": 3,
   "id": "4b00968c",
   "metadata": {},
   "outputs": [],
   "source": [
    "USVT = np.dot(U, np.dot(np.diag(S), VT))"
   ]
  },
  {
   "cell_type": "code",
   "execution_count": 4,
   "id": "9849fdae",
   "metadata": {},
   "outputs": [
    {
     "name": "stdout",
     "output_type": "stream",
     "text": [
      "A equals the product of USVT.\n"
     ]
    }
   ],
   "source": [
    "verification = np.allclose(USVT, A)\n",
    "\n",
    "if verification:\n",
    "    print(\"A equals the product of USVT.\")\n",
    "else:\n",
    "    print(\"A does not equal the product of USVT.\")"
   ]
  },
  {
   "cell_type": "code",
   "execution_count": null,
   "id": "7122a0a3",
   "metadata": {},
   "outputs": [],
   "source": []
  },
  {
   "cell_type": "code",
   "execution_count": null,
   "id": "b5ab2158",
   "metadata": {},
   "outputs": [],
   "source": []
  }
 ],
 "metadata": {
  "kernelspec": {
   "display_name": "Python 3 (ipykernel)",
   "language": "python",
   "name": "python3"
  },
  "language_info": {
   "codemirror_mode": {
    "name": "ipython",
    "version": 3
   },
   "file_extension": ".py",
   "mimetype": "text/x-python",
   "name": "python",
   "nbconvert_exporter": "python",
   "pygments_lexer": "ipython3",
   "version": "3.11.5"
  }
 },
 "nbformat": 4,
 "nbformat_minor": 5
}
